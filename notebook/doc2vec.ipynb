{
 "cells": [
  {
   "cell_type": "code",
   "execution_count": 2,
   "metadata": {},
   "outputs": [
    {
     "name": "stdout",
     "output_type": "stream",
     "text": [
      "Looking in indexes: http://ftp.daumkakao.com/pypi/simple\n",
      "Collecting seaborn\n",
      "\u001b[?25l  Downloading http://mirror.kakao.com/pypi/packages/a8/76/220ba4420459d9c4c9c9587c6ce607bf56c25b3d3d2de62056efe482dadc/seaborn-0.9.0-py3-none-any.whl (208kB)\n",
      "\u001b[K    100% |████████████████████████████████| 215kB 9.0MB/s eta 0:00:01\n",
      "\u001b[?25hRequirement already satisfied: numpy>=1.9.3 in /Users/jeasungpark/Repository/brunch/venv/lib/python3.7/site-packages (from seaborn) (1.16.4)\n",
      "Requirement already satisfied: pandas>=0.15.2 in /Users/jeasungpark/Repository/brunch/venv/lib/python3.7/site-packages (from seaborn) (0.24.2)\n",
      "Requirement already satisfied: matplotlib>=1.4.3 in /Users/jeasungpark/Repository/brunch/venv/lib/python3.7/site-packages (from seaborn) (3.1.1)\n",
      "Requirement already satisfied: scipy>=0.14.0 in /Users/jeasungpark/Repository/brunch/venv/lib/python3.7/site-packages (from seaborn) (1.3.0)\n",
      "Requirement already satisfied: python-dateutil>=2.5.0 in /Users/jeasungpark/Repository/brunch/venv/lib/python3.7/site-packages (from pandas>=0.15.2->seaborn) (2.8.0)\n",
      "Requirement already satisfied: pytz>=2011k in /Users/jeasungpark/Repository/brunch/venv/lib/python3.7/site-packages (from pandas>=0.15.2->seaborn) (2019.1)\n",
      "Requirement already satisfied: pyparsing!=2.0.4,!=2.1.2,!=2.1.6,>=2.0.1 in /Users/jeasungpark/Repository/brunch/venv/lib/python3.7/site-packages (from matplotlib>=1.4.3->seaborn) (2.4.0)\n",
      "Requirement already satisfied: kiwisolver>=1.0.1 in /Users/jeasungpark/Repository/brunch/venv/lib/python3.7/site-packages (from matplotlib>=1.4.3->seaborn) (1.1.0)\n",
      "Requirement already satisfied: cycler>=0.10 in /Users/jeasungpark/Repository/brunch/venv/lib/python3.7/site-packages (from matplotlib>=1.4.3->seaborn) (0.10.0)\n",
      "Requirement already satisfied: six>=1.5 in /Users/jeasungpark/Repository/brunch/venv/lib/python3.7/site-packages (from python-dateutil>=2.5.0->pandas>=0.15.2->seaborn) (1.12.0)\n",
      "Requirement already satisfied: setuptools in /Users/jeasungpark/Repository/brunch/venv/lib/python3.7/site-packages/setuptools-39.1.0-py3.7.egg (from kiwisolver>=1.0.1->matplotlib>=1.4.3->seaborn) (39.1.0)\n",
      "\u001b[31mtensorboard 1.14.0 has requirement setuptools>=41.0.0, but you'll have setuptools 39.1.0 which is incompatible.\u001b[0m\n",
      "Installing collected packages: seaborn\n",
      "Successfully installed seaborn-0.9.0\n",
      "\u001b[33mYou are using pip version 10.0.1, however version 19.2.1 is available.\n",
      "You should consider upgrading via the 'pip install --upgrade pip' command.\u001b[0m\n"
     ]
    }
   ],
   "source": [
    "!pip install seaborn"
   ]
  },
  {
   "cell_type": "code",
   "execution_count": 1,
   "metadata": {},
   "outputs": [],
   "source": [
    "import time\n",
    "#basic imports\n",
    "import pandas as pd\n",
    "import numpy as np\n",
    "import matplotlib.pyplot as plt\n",
    "import seaborn as sns\n",
    "\n",
    "\n",
    "#word modeling\n",
    "from gensim.models.doc2vec import Doc2Vec, TaggedDocument\n",
    "\n",
    "from sklearn.model_selection import train_test_split\n",
    "from sklearn.metrics import confusion_matrix, classification_report\n",
    "from sklearn.manifold import TSNE\n",
    "from sklearn.linear_model import LogisticRegression\n",
    "from nltk import word_tokenize\n",
    "\n",
    "import warnings\n",
    "\n",
    "warnings.filterwarnings(\"ignore\",category=DeprecationWarning)\n",
    "warnings.filterwarnings('ignore',message=\"Precision\")"
   ]
  },
  {
   "cell_type": "code",
   "execution_count": 2,
   "metadata": {},
   "outputs": [
    {
     "data": {
      "text/html": [
       "<div>\n",
       "<style scoped>\n",
       "    .dataframe tbody tr th:only-of-type {\n",
       "        vertical-align: middle;\n",
       "    }\n",
       "\n",
       "    .dataframe tbody tr th {\n",
       "        vertical-align: top;\n",
       "    }\n",
       "\n",
       "    .dataframe thead th {\n",
       "        text-align: right;\n",
       "    }\n",
       "</style>\n",
       "<table border=\"1\" class=\"dataframe\">\n",
       "  <thead>\n",
       "    <tr style=\"text-align: right;\">\n",
       "      <th></th>\n",
       "      <th>Subject</th>\n",
       "      <th>title</th>\n",
       "      <th>d2v_text</th>\n",
       "    </tr>\n",
       "  </thead>\n",
       "  <tbody>\n",
       "    <tr>\n",
       "      <th>0</th>\n",
       "      <td>Calculus</td>\n",
       "      <td>Lec 39 | MIT 18.01 Single Variable Calculus, F...</td>\n",
       "      <td>PROFESSOR: So ||Comma||  ||Return|| Professor...</td>\n",
       "    </tr>\n",
       "    <tr>\n",
       "      <th>1</th>\n",
       "      <td>Probability</td>\n",
       "      <td>S01.0 Mathematical Background Overview</td>\n",
       "      <td>concepts ||Period||  I should say that ||Retur...</td>\n",
       "    </tr>\n",
       "    <tr>\n",
       "      <th>2</th>\n",
       "      <td>CS</td>\n",
       "      <td>8. Object Oriented Programming</td>\n",
       "      <td>FESSOR: All right everyone ||Period||  Let's g...</td>\n",
       "    </tr>\n",
       "    <tr>\n",
       "      <th>3</th>\n",
       "      <td>Algorithms</td>\n",
       "      <td>Recitation 9b: DNA Sequence Matching</td>\n",
       "      <td>OFESSOR: The things we ||Return|| can talk abo...</td>\n",
       "    </tr>\n",
       "    <tr>\n",
       "      <th>4</th>\n",
       "      <td>Algorithms</td>\n",
       "      <td>R10. Quiz 1 Review</td>\n",
       "      <td>FESSOR: All right ||Period||  So I brought a f...</td>\n",
       "    </tr>\n",
       "  </tbody>\n",
       "</table>\n",
       "</div>"
      ],
      "text/plain": [
       "       Subject                                              title  \\\n",
       "0     Calculus  Lec 39 | MIT 18.01 Single Variable Calculus, F...   \n",
       "1  Probability             S01.0 Mathematical Background Overview   \n",
       "2           CS                     8. Object Oriented Programming   \n",
       "3   Algorithms               Recitation 9b: DNA Sequence Matching   \n",
       "4   Algorithms                                 R10. Quiz 1 Review   \n",
       "\n",
       "                                            d2v_text  \n",
       "0   PROFESSOR: So ||Comma||  ||Return|| Professor...  \n",
       "1  concepts ||Period||  I should say that ||Retur...  \n",
       "2  FESSOR: All right everyone ||Period||  Let's g...  \n",
       "3  OFESSOR: The things we ||Return|| can talk abo...  \n",
       "4  FESSOR: All right ||Period||  So I brought a f...  "
      ]
     },
     "execution_count": 2,
     "metadata": {},
     "output_type": "execute_result"
    }
   ],
   "source": [
    "#load data\n",
    "lectures = pd.read_csv('all_lecture_text.csv')\n",
    "lectures.head()"
   ]
  },
  {
   "cell_type": "code",
   "execution_count": 3,
   "metadata": {},
   "outputs": [],
   "source": [
    "#Split the df for training and testing\n",
    "train, test = train_test_split(lectures.reset_index(drop=True), test_size=.30, random_state=43)\n",
    "#The Doc2Vec model takes 'tagged_documents'\n",
    "#tag the training data\n",
    "tagged_tr = [TaggedDocument(words=word_tokenize(_d.lower()), tags=[str(i)]) for i, _d in enumerate(train.d2v_text)]\n",
    "#tag testing data\n",
    "tagged_test = [TaggedDocument(words=word_tokenize(_d.lower()), tags=[str(i)]) for i, _d in enumerate(test.d2v_text)]"
   ]
  },
  {
   "cell_type": "code",
   "execution_count": 4,
   "metadata": {},
   "outputs": [],
   "source": [
    "#Instantiate the model\n",
    "\n",
    "model = Doc2Vec(vector_size=100, # 100 should be fine based on the standards\n",
    "                window=5, #change to 8\n",
    "                alpha=.025, #initial learning rate\n",
    "                min_alpha=0.00025, #learning rate drops linearly to this\n",
    "                min_count=2, #ignores all words with total frequency lower than this.\n",
    "                dm =1, #algorith 1=distributed memory\n",
    "                workers=16)#cores to use\n",
    "\n",
    "#build the vocab on the training data\n",
    "model.build_vocab(tagged_tr)"
   ]
  },
  {
   "cell_type": "code",
   "execution_count": 5,
   "metadata": {},
   "outputs": [
    {
     "name": "stdout",
     "output_type": "stream",
     "text": [
      "iteration 1\n",
      "iteration 2\n",
      "iteration 3\n",
      "iteration 4\n",
      "iteration 5\n",
      "iteration 6\n",
      "iteration 7\n",
      "iteration 8\n",
      "iteration 9\n",
      "iteration 10\n",
      "iteration 11\n",
      "iteration 12\n",
      "iteration 13\n",
      "iteration 14\n",
      "iteration 15\n",
      "iteration 16\n",
      "iteration 17\n",
      "iteration 18\n",
      "iteration 19\n",
      "iteration 20\n",
      "iteration 21\n",
      "iteration 22\n",
      "iteration 23\n",
      "iteration 24\n",
      "iteration 25\n",
      "iteration 26\n",
      "iteration 27\n",
      "iteration 28\n",
      "iteration 29\n",
      "iteration 30\n",
      "iteration 31\n",
      "iteration 32\n",
      "iteration 33\n",
      "iteration 34\n",
      "iteration 35\n",
      "iteration 36\n",
      "iteration 37\n",
      "iteration 38\n",
      "iteration 39\n",
      "iteration 40\n",
      "iteration 41\n",
      "iteration 42\n",
      "iteration 43\n",
      "iteration 44\n",
      "iteration 45\n",
      "iteration 46\n",
      "iteration 47\n",
      "iteration 48\n",
      "iteration 49\n",
      "iteration 50\n",
      "iteration 51\n",
      "iteration 52\n",
      "iteration 53\n",
      "iteration 54\n",
      "iteration 55\n",
      "iteration 56\n",
      "iteration 57\n",
      "iteration 58\n",
      "iteration 59\n",
      "iteration 60\n",
      "iteration 61\n",
      "iteration 62\n",
      "iteration 63\n",
      "iteration 64\n",
      "iteration 65\n",
      "iteration 66\n",
      "iteration 67\n",
      "iteration 68\n",
      "iteration 69\n",
      "iteration 70\n",
      "iteration 71\n",
      "iteration 72\n",
      "iteration 73\n",
      "iteration 74\n",
      "iteration 75\n",
      "iteration 76\n",
      "iteration 77\n",
      "iteration 78\n",
      "iteration 79\n",
      "iteration 80\n",
      "iteration 81\n",
      "iteration 82\n",
      "iteration 83\n",
      "iteration 84\n",
      "iteration 85\n",
      "iteration 86\n",
      "iteration 87\n",
      "iteration 88\n",
      "iteration 89\n",
      "iteration 90\n",
      "iteration 91\n",
      "iteration 92\n",
      "iteration 93\n",
      "iteration 94\n",
      "iteration 95\n",
      "iteration 96\n",
      "iteration 97\n",
      "iteration 98\n",
      "iteration 99\n",
      "iteration 100\n",
      "done!\n",
      "Time: 855.2190959453583\n"
     ]
    }
   ],
   "source": [
    "#max training epochs\n",
    "max_epochs = 100\n",
    "\n",
    "#train n epochs and save the model\n",
    "t1 = time.time()\n",
    "for epoch in range(max_epochs):\n",
    "    print('iteration {0}'.format(epoch+1))\n",
    "    model.train(tagged_tr,\n",
    "                total_examples=model.corpus_count,\n",
    "                epochs=model.epochs)\n",
    "    # decrease the learning rate\n",
    "    model.alpha -= 0.0002\n",
    "    # fix the learning rate, no decay\n",
    "    model.min_alpha = model.alpha\n",
    "   \n",
    "   \n",
    "\n",
    "print(\"done!\")\n",
    "t2 = time.time()    \n",
    "model.save(\"5klects1.model\")\n",
    "#print(\"Model Saved\")\n",
    "print(\"Time: {}\".format(t2-t1))"
   ]
  },
  {
   "cell_type": "code",
   "execution_count": 6,
   "metadata": {},
   "outputs": [],
   "source": [
    "#Now that we have the embedding trained, we can use the infer vector method to convert the test sentences into vectors\n",
    "#that can be used to model \n",
    "\n",
    "# Extract vectors from doc2vec model\n",
    "X_train = np.array([model.docvecs[str(i)] for i in range(len(tagged_tr))])\n",
    "y_train = train.Subject\n",
    "\n",
    "# Extract test values\n",
    "X_test = np.array([model.infer_vector(tagged_test[i][0]) for i in range(len(tagged_test))])\n",
    "y_test = test.Subject"
   ]
  },
  {
   "cell_type": "code",
   "execution_count": 7,
   "metadata": {},
   "outputs": [],
   "source": [
    "def heatconmat(y_true,y_pred):\n",
    "    sns.set_context('talk')\n",
    "    plt.figure(figsize=(9,6))\n",
    "    sns.heatmap(confusion_matrix(y_true,y_pred),\n",
    "                annot=True,\n",
    "                fmt='d',\n",
    "                cbar=False,\n",
    "                cmap='gist_earth_r',\n",
    "                yticklabels=sorted(y_test.unique()))\n",
    "    plt.show()\n",
    "    print(classification_report(y_true,y_pred))"
   ]
  },
  {
   "cell_type": "code",
   "execution_count": 8,
   "metadata": {},
   "outputs": [
    {
     "data": {
      "image/png": "[encoded data removed]",
      "text/plain": [
       "<Figure size 648x432 with 1 Axes>"
      ]
     },
     "metadata": {
      "needs_background": "light"
     },
     "output_type": "display_data"
    },
    {
     "name": "stdout",
     "output_type": "stream",
     "text": [
      "                 precision    recall  f1-score   support\n",
      "\n",
      "             AI       1.00      1.00      1.00        16\n",
      "     Algorithms       0.95      0.91      0.93        22\n",
      "             CS       0.88      0.90      0.89        31\n",
      "       Calculus       0.92      1.00      0.96        22\n",
      "Data Structures       0.94      0.94      0.94        18\n",
      "      Diff. Eq.       1.00      1.00      1.00        23\n",
      " Linear Algebra       0.98      0.98      0.98        52\n",
      "  Math for Eng.       1.00      0.90      0.95        10\n",
      "            NLP       1.00      1.00      1.00         4\n",
      "    Probability       1.00      0.83      0.91        36\n",
      "     Statistics       0.83      1.00      0.91        24\n",
      "\n",
      "       accuracy                           0.95       258\n",
      "      macro avg       0.95      0.95      0.95       258\n",
      "   weighted avg       0.95      0.95      0.95       258\n",
      "\n"
     ]
    }
   ],
   "source": [
    "lrc = LogisticRegression(C=5, multi_class='multinomial', solver='saga',max_iter=1000)\n",
    "lrc.fit(X_train,y_train)\n",
    "y_pred = lrc.predict(X_test)\n",
    "heatconmat(y_test,y_pred)"
   ]
  },
  {
   "cell_type": "code",
   "execution_count": 1,
   "metadata": {},
   "outputs": [],
   "source": [
    "import pandas as pd\n",
    "import numpy as np\n",
    "import json\n",
    "\n",
    "from MulticoreTSNE import MulticoreTSNE as TSNE\n",
    "\n",
    "df_metadata = pd.read_json(\"../data/metadata.json\", lines=True)\n",
    "df_magazine = pd.read_json(\"../data/magazine.json\", lines=True)"
   ]
  },
  {
   "cell_type": "code",
   "execution_count": 2,
   "metadata": {},
   "outputs": [],
   "source": [
    "with open(\"../data/dictionary.json\") as fp:\n",
    "    dictionary = json.load(fp)\n",
    "embedding = np.load(\"../data/embedding.npy\")"
   ]
  },
  {
   "cell_type": "code",
   "execution_count": 3,
   "metadata": {},
   "outputs": [],
   "source": [
    "keys = [key for key in dictionary]\n",
    "values = [dictionary[key] for key in keys]\n",
    "embedding = [embedding[idx] for idx in values]\n",
    "df_dictionary = pd.DataFrame({\"id\" : keys, \"pos\" : values, \"embedding\" : embedding})\n",
    "df_metadata = df_metadata.merge(df_dictionary, on=\"id\")"
   ]
  },
  {
   "cell_type": "code",
   "execution_count": 4,
   "metadata": {},
   "outputs": [],
   "source": [
    "df_metadata = df_metadata[[\"id\", \"keyword_list\", \"embedding\"]]"
   ]
  },
  {
   "cell_type": "code",
   "execution_count": 5,
   "metadata": {},
   "outputs": [],
   "source": [
    "X = df_metadata[[\"id\", \"embedding\"]]\n",
    "Y = df_metadata[[\"id\", \"keyword_list\"]]"
   ]
  },
  {
   "cell_type": "code",
   "execution_count": 6,
   "metadata": {},
   "outputs": [],
   "source": [
    "arr = X[\"embedding\"].values\n",
    "arr = [elem for elem in arr]\n",
    "arr = np.array(arr).astype(np.float64)"
   ]
  },
  {
   "cell_type": "code",
   "execution_count": 7,
   "metadata": {},
   "outputs": [],
   "source": [
    "tsne = TSNE(n_components=2,\n",
    "           perplexity=30.0,\n",
    "           n_jobs=64)\n",
    "arr = tsne.fit_transform(arr)"
   ]
  },
  {
   "cell_type": "code",
   "execution_count": 8,
   "metadata": {},
   "outputs": [
    {
     "data": {
      "text/plain": [
       "(641967, 2)"
      ]
     },
     "execution_count": 8,
     "metadata": {},
     "output_type": "execute_result"
    }
   ],
   "source": [
    "arr.shape"
   ]
  },
  {
   "cell_type": "code",
   "execution_count": 9,
   "metadata": {},
   "outputs": [],
   "source": [
    "x = arr[:, 0]\n",
    "y = arr[:, 1]"
   ]
  },
  {
   "cell_type": "code",
   "execution_count": 10,
   "metadata": {},
   "outputs": [],
   "source": [
    "df_metadata[\"x\"] = x\n",
    "df_metadata[\"y\"] = y"
   ]
  },
  {
   "cell_type": "code",
   "execution_count": 12,
   "metadata": {},
   "outputs": [],
   "source": [
    "df_metadata.to_parquet(\"../data/t-sne-meta.parquet\")"
   ]
  },
  {
   "cell_type": "code",
   "execution_count": null,
   "metadata": {},
   "outputs": [],
   "source": []
  }
 ],
 "metadata": {
  "kernelspec": {
   "display_name": "Python 3",
   "language": "python",
   "name": "python3"
  },
  "language_info": {
   "codemirror_mode": {
    "name": "ipython",
    "version": 3
   },
   "file_extension": ".py",
   "mimetype": "text/x-python",
   "name": "python",
   "nbconvert_exporter": "python",
   "pygments_lexer": "ipython3",
   "version": "3.5.2"
  }
 },
 "nbformat": 4,
 "nbformat_minor": 2
}
