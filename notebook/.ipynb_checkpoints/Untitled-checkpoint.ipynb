{
 "cells": [
  {
   "cell_type": "code",
   "execution_count": 2,
   "metadata": {},
   "outputs": [],
   "source": [
    "import pyarrow.parquet as pq\n",
    "import gensim\n",
    "import sys"
   ]
  },
  {
   "cell_type": "code",
   "execution_count": 4,
   "metadata": {},
   "outputs": [
    {
     "name": "stderr",
     "output_type": "stream",
     "text": [
      "/home/jeasungpark/anaconda3/envs/tensorflow/lib/python3.5/importlib/_bootstrap.py:222: RuntimeWarning: numpy.ufunc size changed, may indicate binary incompatibility. Expected 216, got 192\n",
      "  return f(*args, **kwds)\n",
      "/home/jeasungpark/anaconda3/envs/tensorflow/lib/python3.5/importlib/_bootstrap.py:222: RuntimeWarning: numpy.ufunc size changed, may indicate binary incompatibility. Expected 216, got 192\n",
      "  return f(*args, **kwds)\n"
     ]
    }
   ],
   "source": [
    "dataset = \"../data/documents\"\n",
    "table = pq.ParquetDataset(dataset).read()\n",
    "df = table.to_pandas()"
   ]
  },
  {
   "cell_type": "code",
   "execution_count": 5,
   "metadata": {},
   "outputs": [
    {
     "data": {
      "text/html": [
       "<div>\n",
       "<style scoped>\n",
       "    .dataframe tbody tr th:only-of-type {\n",
       "        vertical-align: middle;\n",
       "    }\n",
       "\n",
       "    .dataframe tbody tr th {\n",
       "        vertical-align: top;\n",
       "    }\n",
       "\n",
       "    .dataframe thead th {\n",
       "        text-align: right;\n",
       "    }\n",
       "</style>\n",
       "<table border=\"1\" class=\"dataframe\">\n",
       "  <thead>\n",
       "    <tr style=\"text-align: right;\">\n",
       "      <th></th>\n",
       "      <th>id</th>\n",
       "      <th>sentences</th>\n",
       "      <th>pos</th>\n",
       "    </tr>\n",
       "  </thead>\n",
       "  <tbody>\n",
       "    <tr>\n",
       "      <th>0</th>\n",
       "      <td>@jm7654_6</td>\n",
       "      <td>[1150/NNG, 35/JKS, 45509/VV, 53/EC, 1489/VV, 3...</td>\n",
       "      <td>68719480608</td>\n",
       "    </tr>\n",
       "    <tr>\n",
       "      <th>1</th>\n",
       "      <td>@hojunna_4</td>\n",
       "      <td>[68300/SL, 575/SS, 10051/SL, 38296/SL, 29188/S...</td>\n",
       "      <td>68719477440</td>\n",
       "    </tr>\n",
       "    <tr>\n",
       "      <th>2</th>\n",
       "      <td>@paradishift_199</td>\n",
       "      <td>[493/NNG, 35/JKS, 498/VA, 40/ETM, 446/NNG, 5/J...</td>\n",
       "      <td>68719476952</td>\n",
       "    </tr>\n",
       "    <tr>\n",
       "      <th>3</th>\n",
       "      <td>@kerrylove_28</td>\n",
       "      <td>[39845/NNG, 20759/NR, 4702/NNG, 173/NNB, 2017/...</td>\n",
       "      <td>68719478708</td>\n",
       "    </tr>\n",
       "    <tr>\n",
       "      <th>4</th>\n",
       "      <td>@chosohyun730_26</td>\n",
       "      <td>[109367/NNP, 59/JX, 342376/NNG, 14430/NNG, 262...</td>\n",
       "      <td>68719478471</td>\n",
       "    </tr>\n",
       "  </tbody>\n",
       "</table>\n",
       "</div>"
      ],
      "text/plain": [
       "                 id                                          sentences  \\\n",
       "0         @jm7654_6  [1150/NNG, 35/JKS, 45509/VV, 53/EC, 1489/VV, 3...   \n",
       "1        @hojunna_4  [68300/SL, 575/SS, 10051/SL, 38296/SL, 29188/S...   \n",
       "2  @paradishift_199  [493/NNG, 35/JKS, 498/VA, 40/ETM, 446/NNG, 5/J...   \n",
       "3     @kerrylove_28  [39845/NNG, 20759/NR, 4702/NNG, 173/NNB, 2017/...   \n",
       "4  @chosohyun730_26  [109367/NNP, 59/JX, 342376/NNG, 14430/NNG, 262...   \n",
       "\n",
       "           pos  \n",
       "0  68719480608  \n",
       "1  68719477440  \n",
       "2  68719476952  \n",
       "3  68719478708  \n",
       "4  68719478471  "
      ]
     },
     "execution_count": 5,
     "metadata": {},
     "output_type": "execute_result"
    }
   ],
   "source": [
    "df.head(5)"
   ]
  },
  {
   "cell_type": "code",
   "execution_count": 6,
   "metadata": {},
   "outputs": [],
   "source": [
    "import pandas as pd"
   ]
  },
  {
   "cell_type": "code",
   "execution_count": 8,
   "metadata": {},
   "outputs": [],
   "source": [
    "df = df[[\"id\", \"sentences\"]]"
   ]
  },
  {
   "cell_type": "code",
   "execution_count": 9,
   "metadata": {},
   "outputs": [
    {
     "data": {
      "text/html": [
       "<div>\n",
       "<style scoped>\n",
       "    .dataframe tbody tr th:only-of-type {\n",
       "        vertical-align: middle;\n",
       "    }\n",
       "\n",
       "    .dataframe tbody tr th {\n",
       "        vertical-align: top;\n",
       "    }\n",
       "\n",
       "    .dataframe thead th {\n",
       "        text-align: right;\n",
       "    }\n",
       "</style>\n",
       "<table border=\"1\" class=\"dataframe\">\n",
       "  <thead>\n",
       "    <tr style=\"text-align: right;\">\n",
       "      <th></th>\n",
       "      <th>id</th>\n",
       "      <th>sentences</th>\n",
       "    </tr>\n",
       "  </thead>\n",
       "  <tbody>\n",
       "    <tr>\n",
       "      <th>0</th>\n",
       "      <td>@jm7654_6</td>\n",
       "      <td>[1150/NNG, 35/JKS, 45509/VV, 53/EC, 1489/VV, 3...</td>\n",
       "    </tr>\n",
       "    <tr>\n",
       "      <th>1</th>\n",
       "      <td>@hojunna_4</td>\n",
       "      <td>[68300/SL, 575/SS, 10051/SL, 38296/SL, 29188/S...</td>\n",
       "    </tr>\n",
       "    <tr>\n",
       "      <th>2</th>\n",
       "      <td>@paradishift_199</td>\n",
       "      <td>[493/NNG, 35/JKS, 498/VA, 40/ETM, 446/NNG, 5/J...</td>\n",
       "    </tr>\n",
       "    <tr>\n",
       "      <th>3</th>\n",
       "      <td>@kerrylove_28</td>\n",
       "      <td>[39845/NNG, 20759/NR, 4702/NNG, 173/NNB, 2017/...</td>\n",
       "    </tr>\n",
       "    <tr>\n",
       "      <th>4</th>\n",
       "      <td>@chosohyun730_26</td>\n",
       "      <td>[109367/NNP, 59/JX, 342376/NNG, 14430/NNG, 262...</td>\n",
       "    </tr>\n",
       "  </tbody>\n",
       "</table>\n",
       "</div>"
      ],
      "text/plain": [
       "                 id                                          sentences\n",
       "0         @jm7654_6  [1150/NNG, 35/JKS, 45509/VV, 53/EC, 1489/VV, 3...\n",
       "1        @hojunna_4  [68300/SL, 575/SS, 10051/SL, 38296/SL, 29188/S...\n",
       "2  @paradishift_199  [493/NNG, 35/JKS, 498/VA, 40/ETM, 446/NNG, 5/J...\n",
       "3     @kerrylove_28  [39845/NNG, 20759/NR, 4702/NNG, 173/NNB, 2017/...\n",
       "4  @chosohyun730_26  [109367/NNP, 59/JX, 342376/NNG, 14430/NNG, 262..."
      ]
     },
     "execution_count": 9,
     "metadata": {},
     "output_type": "execute_result"
    }
   ],
   "source": [
    "df.head(5)"
   ]
  },
  {
   "cell_type": "code",
   "execution_count": 10,
   "metadata": {},
   "outputs": [],
   "source": [
    "df[\"pos\"] = [i for i in range(len(df))]"
   ]
  },
  {
   "cell_type": "code",
   "execution_count": 11,
   "metadata": {},
   "outputs": [
    {
     "data": {
      "text/html": [
       "<div>\n",
       "<style scoped>\n",
       "    .dataframe tbody tr th:only-of-type {\n",
       "        vertical-align: middle;\n",
       "    }\n",
       "\n",
       "    .dataframe tbody tr th {\n",
       "        vertical-align: top;\n",
       "    }\n",
       "\n",
       "    .dataframe thead th {\n",
       "        text-align: right;\n",
       "    }\n",
       "</style>\n",
       "<table border=\"1\" class=\"dataframe\">\n",
       "  <thead>\n",
       "    <tr style=\"text-align: right;\">\n",
       "      <th></th>\n",
       "      <th>id</th>\n",
       "      <th>sentences</th>\n",
       "      <th>pos</th>\n",
       "    </tr>\n",
       "  </thead>\n",
       "  <tbody>\n",
       "    <tr>\n",
       "      <th>0</th>\n",
       "      <td>@jm7654_6</td>\n",
       "      <td>[1150/NNG, 35/JKS, 45509/VV, 53/EC, 1489/VV, 3...</td>\n",
       "      <td>0</td>\n",
       "    </tr>\n",
       "    <tr>\n",
       "      <th>1</th>\n",
       "      <td>@hojunna_4</td>\n",
       "      <td>[68300/SL, 575/SS, 10051/SL, 38296/SL, 29188/S...</td>\n",
       "      <td>1</td>\n",
       "    </tr>\n",
       "    <tr>\n",
       "      <th>2</th>\n",
       "      <td>@paradishift_199</td>\n",
       "      <td>[493/NNG, 35/JKS, 498/VA, 40/ETM, 446/NNG, 5/J...</td>\n",
       "      <td>2</td>\n",
       "    </tr>\n",
       "    <tr>\n",
       "      <th>3</th>\n",
       "      <td>@kerrylove_28</td>\n",
       "      <td>[39845/NNG, 20759/NR, 4702/NNG, 173/NNB, 2017/...</td>\n",
       "      <td>3</td>\n",
       "    </tr>\n",
       "    <tr>\n",
       "      <th>4</th>\n",
       "      <td>@chosohyun730_26</td>\n",
       "      <td>[109367/NNP, 59/JX, 342376/NNG, 14430/NNG, 262...</td>\n",
       "      <td>4</td>\n",
       "    </tr>\n",
       "  </tbody>\n",
       "</table>\n",
       "</div>"
      ],
      "text/plain": [
       "                 id                                          sentences  pos\n",
       "0         @jm7654_6  [1150/NNG, 35/JKS, 45509/VV, 53/EC, 1489/VV, 3...    0\n",
       "1        @hojunna_4  [68300/SL, 575/SS, 10051/SL, 38296/SL, 29188/S...    1\n",
       "2  @paradishift_199  [493/NNG, 35/JKS, 498/VA, 40/ETM, 446/NNG, 5/J...    2\n",
       "3     @kerrylove_28  [39845/NNG, 20759/NR, 4702/NNG, 173/NNB, 2017/...    3\n",
       "4  @chosohyun730_26  [109367/NNP, 59/JX, 342376/NNG, 14430/NNG, 262...    4"
      ]
     },
     "execution_count": 11,
     "metadata": {},
     "output_type": "execute_result"
    }
   ],
   "source": [
    "df.head()"
   ]
  },
  {
   "cell_type": "code",
   "execution_count": 16,
   "metadata": {},
   "outputs": [],
   "source": [
    "tuples = [tuple(elem) for elem in df.values]"
   ]
  },
  {
   "cell_type": "code",
   "execution_count": 17,
   "metadata": {},
   "outputs": [
    {
     "data": {
      "text/plain": [
       "('@jm7654_6',\n",
       " array(['1150/NNG', '35/JKS', '45509/VV', '53/EC', '1489/VV', '37/EF',\n",
       "        '14/SF', '430/NNG', '59/JX', '45509/VV', '53/EC', '10979/VV',\n",
       "        '37/EF', '14/SF', '260/NNG', '59/JX', '45509/VV', '53/EC',\n",
       "        '7652/VV', '37/EF', '14/SF', '132/NP', '59/JX', '45509/VV',\n",
       "        '53/EC', '1212/MM', '42/NNB', '40/JKO', '431/NNG', '27/JKB',\n",
       "        '1773/NNG', '34/JKB', '5319/NNG', '34/JKB', '523/VV', '52/EC',\n",
       "        '1513/VX', '37/EF', '14/SF', '597/NNG', '82/MAG', '6814/NNG',\n",
       "        '281/XSA', '32/ETM', '323/SN', '1478/NNB', '38/JKG', '8987/NNG',\n",
       "        '12/VCP', '114/EP', '13/EF', '14/SF', '303/NNG', '7/JX',\n",
       "        '1706/NNG', '34/JKB', '2961/VV', '65/EC', '35/VX', '68/EC',\n",
       "        '134/VX', '5/ETM', '2212/SN', '1478/NNB', '12/VCP', '13/EF',\n",
       "        '14/SF', '17015/NNG', '5/JX', '17367/NNG', '132/JC', '2054/NNG',\n",
       "        '3784/NNP', '18/NNG', '34/JKB', '1139/VV', '68/EC', '134/VX',\n",
       "        '13/EF', '14/SF', '439/MM', '324/NNB', '40/JKO', '556/VV',\n",
       "        '32/ETM', '2907/NNG', '27696/NNG', '59/NNP', '492/VV', '68/EC',\n",
       "        '134/VX', '5/ETM', '42/NNB', '12/VCP', '13/EF', '14/SF', '76/VV',\n",
       "        '1353/EC', '45509/VV', '68/EC', '69/VX', '13/EF', '14/SF',\n",
       "        '2748/MAG', '8363/VA', '32/ETM', '626/NNG', '1773/NNG', '34/JKB',\n",
       "        '188/NNG', '100/VV', '400/EC', '4644/NNG', '12/JKS', '351948/VV',\n",
       "        '5/ETM', '42/NNB', '40/JKO', '4366/VA', '32/ETM', '33277/NNG',\n",
       "        '12/VCP', '44/ETN', '27/JKB', '54/VV', '10/ETM', '237/NNB',\n",
       "        '134/VV', '13/EF', '14/SF', '17015/NNG', '5/JX', '2162/MAG',\n",
       "        '21/MM', '9012/NNG', '50/JKO', '439/MM', '173/NNB', '880/VV',\n",
       "        '68/EC', '1143/VA', '7/ETM', '2907/NNG', '40/JKO', '102/VV',\n",
       "        '52/EC', '66/VX', '114/EP', '13/EF', '14/SF', '291/MAG', '1434/MM',\n",
       "        '4437/NNG', '30/JKB', '901/VV', '803/EC', '6397/NNG', '40/JKO',\n",
       "        '1333/VV', '302/EC', '145/NNG', '9/XSV', '10/ETM', '42/NNB',\n",
       "        '494/VA', '13/EF', '14/SF', '8120/XR', '9/XSA', '286/EC',\n",
       "        '35566/NNG', '232/JKB', '1989/NR', '2032/NNG', '40/JKO', '92/MAG',\n",
       "        '187/VV', '177/EP', '68/EC', '132/NP', '232/JKB', '5/JX', '439/MM',\n",
       "        '2032/NNG', '337/MAG', '608/NNG', '40/JKO', '277/NNG', '40/JKO',\n",
       "        '692/VV', '114/EP', '13/EF', '14/SF', '76/VV', '854/EC',\n",
       "        '17015/NNG', '50/JKO', '213/VV', '68/EC', '537/MAG', '6668/VV',\n",
       "        '82/EC', '144/VX', '274/EF', '1568/SF', '61/MAJ', '608/NNG',\n",
       "        '40/JKO', '213/VV', '68/EC', '59/JX', '537/MAG', '3463/XR',\n",
       "        '9/XSA', '123/EC', '6668/VV', '82/EC', '144/VX', '274/EF',\n",
       "        '1568/SF', '853/MAG', '7/JX', '17118/XR', '9/XSA', '32/ETM',\n",
       "        '60/NNG', '34/JKB', '45509/VV', '68/EC', '9131/NNG', '23/JKB',\n",
       "        '579/VV', '1353/EC', '1356/NP', '7/JX', '323/SN', '1478/NNB',\n",
       "        '38/JKG', '6814/NNG', '9/XSA', '32/ETM', '1349/NNG', '10143/NNG',\n",
       "        '232/JKB', '39298/NNG', '9/XSA', '32/ETM', '60/NNG', '12/VCP',\n",
       "        '18/ETN', '163/NNB', '12/VCP', '13/EF', '14/SF'], dtype=object),\n",
       " 0)"
      ]
     },
     "execution_count": 17,
     "metadata": {},
     "output_type": "execute_result"
    }
   ],
   "source": [
    "tuples[0]"
   ]
  },
  {
   "cell_type": "code",
   "execution_count": 25,
   "metadata": {},
   "outputs": [],
   "source": [
    "from gensim.models import doc2vec\n",
    "from gensim.models.doc2vec import TaggedDocument\n",
    "import sys\n",
    "import multiprocessing\n",
    "from tqdm import tqdm"
   ]
  },
  {
   "cell_type": "code",
   "execution_count": 26,
   "metadata": {},
   "outputs": [
    {
     "name": "stderr",
     "output_type": "stream",
     "text": [
      "100%|██████████| 642190/642190 [00:02<00:00, 303382.24it/s]\n"
     ]
    }
   ],
   "source": [
    "sentences = [TaggedDocument(words=elem[1], tags=[elem[0]]) for elem in tqdm(tuples)]\n"
   ]
  },
  {
   "cell_type": "code",
   "execution_count": 27,
   "metadata": {},
   "outputs": [
    {
     "name": "stdout",
     "output_type": "stream",
     "text": [
      "TaggedDocument(['1150/NNG' '35/JKS' '45509/VV' '53/EC' '1489/VV' '37/EF' '14/SF'\n",
      " '430/NNG' '59/JX' '45509/VV' '53/EC' '10979/VV' '37/EF' '14/SF' '260/NNG'\n",
      " '59/JX' '45509/VV' '53/EC' '7652/VV' '37/EF' '14/SF' '132/NP' '59/JX'\n",
      " '45509/VV' '53/EC' '1212/MM' '42/NNB' '40/JKO' '431/NNG' '27/JKB'\n",
      " '1773/NNG' '34/JKB' '5319/NNG' '34/JKB' '523/VV' '52/EC' '1513/VX'\n",
      " '37/EF' '14/SF' '597/NNG' '82/MAG' '6814/NNG' '281/XSA' '32/ETM' '323/SN'\n",
      " '1478/NNB' '38/JKG' '8987/NNG' '12/VCP' '114/EP' '13/EF' '14/SF'\n",
      " '303/NNG' '7/JX' '1706/NNG' '34/JKB' '2961/VV' '65/EC' '35/VX' '68/EC'\n",
      " '134/VX' '5/ETM' '2212/SN' '1478/NNB' '12/VCP' '13/EF' '14/SF'\n",
      " '17015/NNG' '5/JX' '17367/NNG' '132/JC' '2054/NNG' '3784/NNP' '18/NNG'\n",
      " '34/JKB' '1139/VV' '68/EC' '134/VX' '13/EF' '14/SF' '439/MM' '324/NNB'\n",
      " '40/JKO' '556/VV' '32/ETM' '2907/NNG' '27696/NNG' '59/NNP' '492/VV'\n",
      " '68/EC' '134/VX' '5/ETM' '42/NNB' '12/VCP' '13/EF' '14/SF' '76/VV'\n",
      " '1353/EC' '45509/VV' '68/EC' '69/VX' '13/EF' '14/SF' '2748/MAG' '8363/VA'\n",
      " '32/ETM' '626/NNG' '1773/NNG' '34/JKB' '188/NNG' '100/VV' '400/EC'\n",
      " '4644/NNG' '12/JKS' '351948/VV' '5/ETM' '42/NNB' '40/JKO' '4366/VA'\n",
      " '32/ETM' '33277/NNG' '12/VCP' '44/ETN' '27/JKB' '54/VV' '10/ETM'\n",
      " '237/NNB' '134/VV' '13/EF' '14/SF' '17015/NNG' '5/JX' '2162/MAG' '21/MM'\n",
      " '9012/NNG' '50/JKO' '439/MM' '173/NNB' '880/VV' '68/EC' '1143/VA' '7/ETM'\n",
      " '2907/NNG' '40/JKO' '102/VV' '52/EC' '66/VX' '114/EP' '13/EF' '14/SF'\n",
      " '291/MAG' '1434/MM' '4437/NNG' '30/JKB' '901/VV' '803/EC' '6397/NNG'\n",
      " '40/JKO' '1333/VV' '302/EC' '145/NNG' '9/XSV' '10/ETM' '42/NNB' '494/VA'\n",
      " '13/EF' '14/SF' '8120/XR' '9/XSA' '286/EC' '35566/NNG' '232/JKB'\n",
      " '1989/NR' '2032/NNG' '40/JKO' '92/MAG' '187/VV' '177/EP' '68/EC' '132/NP'\n",
      " '232/JKB' '5/JX' '439/MM' '2032/NNG' '337/MAG' '608/NNG' '40/JKO'\n",
      " '277/NNG' '40/JKO' '692/VV' '114/EP' '13/EF' '14/SF' '76/VV' '854/EC'\n",
      " '17015/NNG' '50/JKO' '213/VV' '68/EC' '537/MAG' '6668/VV' '82/EC'\n",
      " '144/VX' '274/EF' '1568/SF' '61/MAJ' '608/NNG' '40/JKO' '213/VV' '68/EC'\n",
      " '59/JX' '537/MAG' '3463/XR' '9/XSA' '123/EC' '6668/VV' '82/EC' '144/VX'\n",
      " '274/EF' '1568/SF' '853/MAG' '7/JX' '17118/XR' '9/XSA' '32/ETM' '60/NNG'\n",
      " '34/JKB' '45509/VV' '68/EC' '9131/NNG' '23/JKB' '579/VV' '1353/EC'\n",
      " '1356/NP' '7/JX' '323/SN' '1478/NNB' '38/JKG' '6814/NNG' '9/XSA' '32/ETM'\n",
      " '1349/NNG' '10143/NNG' '232/JKB' '39298/NNG' '9/XSA' '32/ETM' '60/NNG'\n",
      " '12/VCP' '18/ETN' '163/NNB' '12/VCP' '13/EF' '14/SF'], ['@jm7654_6'])\n"
     ]
    }
   ],
   "source": [
    "print(sentences[0])"
   ]
  },
  {
   "cell_type": "code",
   "execution_count": null,
   "metadata": {},
   "outputs": [],
   "source": [
    "import logging\n",
    "logging.basicConfig(format='%(asctime)s : %(levelname)s : %(message)s', level=logging.INFO)\n",
    "\n",
    "cores = multiprocessing.cpu_count()\n",
    "\n",
    "doc_vectorizer = doc2vec.Doc2Vec(dm=1,\n",
    "                                 vector_size=300,\n",
    "                                 window=5,\n",
    "                                 alpha=0.025,\n",
    "                                 min_alpha=0.001,\n",
    "                                 seed=1234,\n",
    "                                 min_count=0,\n",
    "                                 workers=cores,\n",
    "                                 epochs=5,\n",
    "                                 hs=1,\n",
    "                                 negative=10)"
   ]
  },
  {
   "cell_type": "code",
   "execution_count": null,
   "metadata": {},
   "outputs": [],
   "source": []
  }
 ],
 "metadata": {
  "kernelspec": {
   "display_name": "Python 3",
   "language": "python",
   "name": "python3"
  },
  "language_info": {
   "codemirror_mode": {
    "name": "ipython",
    "version": 3
   },
   "file_extension": ".py",
   "mimetype": "text/x-python",
   "name": "python",
   "nbconvert_exporter": "python",
   "pygments_lexer": "ipython3",
   "version": "3.5.4"
  }
 },
 "nbformat": 4,
 "nbformat_minor": 1
}
